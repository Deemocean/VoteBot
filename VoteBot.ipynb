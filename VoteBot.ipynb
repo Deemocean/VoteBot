{
 "cells": [
  {
   "cell_type": "code",
   "execution_count": 45,
   "metadata": {
    "collapsed": true
   },
   "outputs": [],
   "source": [
    "import time\n",
    "from selenium import webdriver\n",
    "from selenium.webdriver.common.by import By\n",
    "from selenium.webdriver.chrome.options import Options\n",
    "options = Options()\n",
    "options.add_argument('--disable-blink-features=AutomationControlled')\n",
    "Options.binary_location = \"/Applications/Google Chrome Beta.app/Contents/MacOS/Google Chrome Beta\"\n",
    "import random\n",
    "import string\n",
    "import names"
   ]
  },
  {
   "cell_type": "code",
   "execution_count": 48,
   "outputs": [],
   "source": [
    "#Parameters\n",
    "access_token = 'bb2ad9a5b71ee5'\n",
    "rotating_ip = '46.4.73.88:2000'\n",
    "#project page\n",
    "project = \"https://make.co/contestants/THE PROJECT\"\n",
    "n_votes = 10"
   ],
   "metadata": {
    "collapsed": false,
    "pycharm": {
     "name": "#%%\n"
    }
   }
  },
  {
   "cell_type": "code",
   "execution_count": 49,
   "outputs": [],
   "source": [
    "def email_generator():\n",
    "    name = names.get_first_name()\n",
    "    return name+str(random.randrange(1,420,1))+'@gmail.com'\n",
    "def password_generator():\n",
    "    return ''.join(random.choices(string.ascii_uppercase + string.ascii_lowercase, k=10))+str(int(round(random.random()*10000,0)))"
   ],
   "metadata": {
    "collapsed": false,
    "pycharm": {
     "name": "#%%\n"
    }
   }
  },
  {
   "cell_type": "code",
   "execution_count": 52,
   "outputs": [],
   "source": [
    "# def load_proxy_file():\n",
    "#     proxies = []\n",
    "#     with open(\"Proxy.txt\") as file:\n",
    "#         while line := file.readline().rstrip():\n",
    "#             proxies.append(line)\n",
    "#     return proxies\n",
    "# #try a proxy\n",
    "# def try_proxy(proxies):\n",
    "#     try:\n",
    "#         driver = webdriver.Chrome()\n",
    "#         chrome_options = webdriver.ChromeOptions()\n",
    "#         chrome_options.add_argument(\"--incognito\")\n",
    "#         chrome_options.add_argument('--proxy-server=%s' % proxies[0])\n",
    "#         driver.get(\"https://make.co/wp-login.php?redirect_to=https://make.co/dashboard/%3Flogin%3Dtrue\")\n",
    "#     except:\n",
    "#         try_proxy(proxies[1:])\n",
    "#     else:\n",
    "#         return proxies[0], proxies[1:]\n",
    "def get_ipinfo(driver):\n",
    "    Xpath_ipinfo = '/html/body/pre'\n",
    "    driver.get(\"https://ipinfo.io/?token=bb2ad9a5b71ee5\")\n",
    "    return driver.find_element(By.XPATH, Xpath_ipinfo).text\n",
    "\n",
    "def sign_up(driver):\n",
    "    Xpath_SignUp = '/html/body/div/i/div/div/div/form/div/div/div[3]/span/div/div/div/div/div/div/div/div/div[1]/ul/li[2]/a'\n",
    "    Xpath_email = '//*[@id=\"login-container\"]/div/div/form/div/div/div[3]/span/div/div/div/div/div/div/div/div/div[2]/div[1]/div/input'\n",
    "    Xpath_passworld = '//*[@id=\"login-container\"]/div/div/form/div/div/div[3]/span/div/div/div/div/div/div/div/div/div[2]/div[2]/div[1]/div/input'\n",
    "    Xpath_firstname = '//*[@id=\"login-container\"]/div/div/form/div/div/div[3]/span/div/div/div/div/div/div/div/div/div[2]/div[3]/div/input'\n",
    "    Xpath_lastname = '//*[@id=\"login-container\"]/div/div/form/div/div/div[3]/span/div/div/div/div/div/div/div/div/div[2]/div[4]/div/input'\n",
    "    Xpath_month = '//*[@id=\"login-container\"]/div/div/form/div/div/div[3]/span/div/div/div/div/div/div/div/div/div[2]/div[6]/div/input'\n",
    "    Xpath_day = '//*[@id=\"login-container\"]/div/div/form/div/div/div[3]/span/div/div/div/div/div/div/div/div/div[2]/div[7]/div/input'\n",
    "    Xpath_year = '//*[@id=\"login-container\"]/div/div/form/div/div/div[3]/span/div/div/div/div/div/div/div/div/div[2]/div[8]/div/input'\n",
    "    Xpath_month_spc = '//*[@id=\"login-container\"]/div/div/form/div/div/div[4]/div/div[2]/ul/li['+str(random.randrange(1,12,1))+']'\n",
    "    Xpath_day_spc = '//*[@id=\"login-container\"]/div/div/form/div/div/div[4]/div/div[2]/ul/li['+str(random.randrange(1,30,1))+']'\n",
    "    Xpath_2000 = '//*[@id=\"login-container\"]/div/div/form/div/div/div[4]/div/div[2]/ul/li['+str(random.randrange(21,100,1))+']'\n",
    "    Xpath_terms = '//*[@id=\"login-container\"]/div/div/form/div/div/div[3]/span/div/div/div/div/div/small/span/label/input'\n",
    "    Xpath_SP = '//*[@id=\"login-container\"]/div/div/form/div/div/button/span'\n",
    "\n",
    "    driver.get(\"https://make.co/wp-login.php?redirect_to=https://make.co/dashboard/%3Flogin%3Dtrue\")\n",
    "\n",
    "    driver.find_element(By.XPATH, Xpath_SignUp).click()\n",
    "    driver.find_element(By.XPATH, Xpath_email).send_keys(email_generator())\n",
    "    driver.find_element(By.XPATH, Xpath_passworld).send_keys(password_generator())\n",
    "    driver.find_element(By.XPATH, Xpath_firstname).send_keys(names.get_first_name())\n",
    "    driver.find_element(By.XPATH, Xpath_lastname).send_keys(names.get_last_name())\n",
    "\n",
    "    driver.find_element(By.XPATH,Xpath_month).click()\n",
    "    driver.find_element(By.XPATH,Xpath_month_spc).click()\n",
    "\n",
    "    driver.find_element(By.XPATH,Xpath_day).click()\n",
    "    driver.find_element(By.XPATH, Xpath_month_spc).click()\n",
    "\n",
    "    driver.find_element(By.XPATH,Xpath_year).click()\n",
    "    driver.find_element(By.XPATH,Xpath_2000).click()\n",
    "\n",
    "    driver.find_element(By.XPATH,Xpath_terms).click()\n",
    "    driver.find_element(By.XPATH,Xpath_SP).click()\n",
    "\n",
    "def vote(driver, project_page):\n",
    "    Xpath_VOTE = '//*[@id=\"wpvc-singlecustom-header\"]/div/div[2]/div/div/div[1]/button/span'\n",
    "    print(\"Loading Project page...\")\n",
    "    driver.get(project_page)\n",
    "    print(\"Done.\")\n",
    "    driver.find_element(By.XPATH,Xpath_VOTE).click()\n",
    "\n",
    "def vote_bot_run(n_votes,project_page):\n",
    "    for i in range(n_votes):\n",
    "        chrome_options = webdriver.ChromeOptions()\n",
    "        chrome_options.add_argument(\"--incognito\")\n",
    "        chrome_options.add_argument('--proxy-server=%s' % rotating_ip)\n",
    "        prefs = {\"profile.managed_default_content_settings.images\": 2}\n",
    "        chrome_options.add_experimental_option(\"prefs\", prefs)\n",
    "        driver = webdriver.Chrome(options=chrome_options)\n",
    "        driver.implicitly_wait(10)\n",
    "\n",
    "        print(\"Voting Agent IP info:\")\n",
    "        print(get_ipinfo(driver))\n",
    "        #time.sleep(5)\n",
    "        print(\"Generating account info and signing up...\")\n",
    "        sign_up(driver)\n",
    "        print(\"Done.\")\n",
    "        time.sleep(10)\n",
    "        print(\"Voting...\")\n",
    "        vote(driver,project_page)\n",
    "        print(str(i+1)+\" voted!\")\n",
    "        time.sleep(5)\n",
    "\n",
    "        driver.delete_all_cookies()\n",
    "        driver.close()"
   ],
   "metadata": {
    "collapsed": false,
    "pycharm": {
     "name": "#%%\n"
    }
   }
  },
  {
   "cell_type": "code",
   "execution_count": 53,
   "outputs": [
    {
     "name": "stdout",
     "output_type": "stream",
     "text": [
      "Voting Agent IP info:\n",
      "{\n",
      "  \"ip\": \"2.58.46.41\",\n",
      "  \"city\": \"Copenhagen\",\n",
      "  \"region\": \"Capital Region\",\n",
      "  \"country\": \"DK\",\n",
      "  \"loc\": \"55.6689,12.5588\",\n",
      "  \"org\": \"AS9009 M247 Ltd\",\n",
      "  \"postal\": \"1716\",\n",
      "  \"timezone\": \"Europe/Copenhagen\"\n",
      "}\n",
      "Generating account info and signing up...\n",
      "Done.\n",
      "Voting...\n",
      "Loading Project page...\n",
      "Done.\n",
      "1 voted!\n",
      "Voting Agent IP info:\n",
      "{\n",
      "  \"ip\": \"108.166.210.188\",\n",
      "  \"hostname\": \"keen-assassin.sendstores.com\",\n",
      "  \"city\": \"Los Angeles\",\n",
      "  \"region\": \"California\",\n",
      "  \"country\": \"US\",\n",
      "  \"loc\": \"34.0522,-118.2437\",\n",
      "  \"org\": \"AS35916 MULTACOM CORPORATION\",\n",
      "  \"postal\": \"90009\",\n",
      "  \"timezone\": \"America/Los_Angeles\"\n",
      "}\n",
      "Generating account info and signing up...\n",
      "Done.\n",
      "Voting...\n",
      "Loading Project page...\n",
      "Done.\n",
      "2 voted!\n",
      "Voting Agent IP info:\n",
      "{\n",
      "  \"ip\": \"84.247.50.118\",\n",
      "  \"city\": \"Oslo\",\n",
      "  \"region\": \"Oslo\",\n",
      "  \"country\": \"NO\",\n",
      "  \"loc\": \"59.9127,10.7461\",\n",
      "  \"org\": \"AS9009 M247 Ltd\",\n",
      "  \"postal\": \"0001\",\n",
      "  \"timezone\": \"Europe/Oslo\"\n",
      "}\n",
      "Generating account info and signing up...\n",
      "Done.\n",
      "Voting...\n",
      "Loading Project page...\n",
      "Done.\n",
      "3 voted!\n",
      "Voting Agent IP info:\n",
      "{\n",
      "  \"ip\": \"193.233.228.25\",\n",
      "  \"city\": \"Chicago\",\n",
      "  \"region\": \"Illinois\",\n",
      "  \"country\": \"US\",\n",
      "  \"loc\": \"41.8500,-87.6500\",\n",
      "  \"org\": \"AS174 Cogent Communications\",\n",
      "  \"postal\": \"60666\",\n",
      "  \"timezone\": \"America/Chicago\"\n",
      "}\n",
      "Generating account info and signing up...\n",
      "Done.\n",
      "Voting...\n",
      "Loading Project page...\n",
      "Done.\n",
      "4 voted!\n",
      "Voting Agent IP info:\n",
      "{\n",
      "  \"ip\": \"23.94.28.11\",\n",
      "  \"hostname\": \"23-94-28-11-host.colocrossing.com\",\n",
      "  \"city\": \"Buffalo\",\n",
      "  \"region\": \"New York\",\n",
      "  \"country\": \"US\",\n",
      "  \"loc\": \"42.8865,-78.8784\",\n",
      "  \"org\": \"AS36352 ColoCrossing\",\n",
      "  \"postal\": \"14202\",\n",
      "  \"timezone\": \"America/New_York\"\n",
      "}\n",
      "Generating account info and signing up...\n"
     ]
    },
    {
     "ename": "NoSuchElementException",
     "evalue": "Message: no such element: Unable to locate element: {\"method\":\"xpath\",\"selector\":\"/html/body/div/i/div/div/div/form/div/div/div[3]/span/div/div/div/div/div/div/div/div/div[1]/ul/li[2]/a\"}\n  (Session info: chrome=104.0.5112.48)\nStacktrace:\n0   chromedriver                        0x00000001023f2aa4 chromedriver + 3828388\n1   chromedriver                        0x0000000102387ee0 chromedriver + 3391200\n2   chromedriver                        0x0000000102080fcc chromedriver + 217036\n3   chromedriver                        0x00000001020b0b64 chromedriver + 412516\n4   chromedriver                        0x00000001020d9b14 chromedriver + 580372\n5   chromedriver                        0x00000001020a5ff8 chromedriver + 368632\n6   chromedriver                        0x00000001023c8360 chromedriver + 3654496\n7   chromedriver                        0x00000001023cbc10 chromedriver + 3669008\n8   chromedriver                        0x00000001023d0110 chromedriver + 3686672\n9   chromedriver                        0x00000001023cc618 chromedriver + 3671576\n10  chromedriver                        0x00000001023aab04 chromedriver + 3533572\n11  chromedriver                        0x00000001023e43d8 chromedriver + 3769304\n12  chromedriver                        0x00000001023e453c chromedriver + 3769660\n13  chromedriver                        0x00000001023f90b4 chromedriver + 3854516\n14  libsystem_pthread.dylib             0x000000018a62c26c _pthread_start + 148\n15  libsystem_pthread.dylib             0x000000018a62708c thread_start + 8\n",
     "output_type": "error",
     "traceback": [
      "\u001B[0;31m---------------------------------------------------------------------------\u001B[0m",
      "\u001B[0;31mNoSuchElementException\u001B[0m                    Traceback (most recent call last)",
      "\u001B[0;32m<ipython-input-53-6e461d9fab4d>\u001B[0m in \u001B[0;36m<module>\u001B[0;34m\u001B[0m\n\u001B[0;32m----> 1\u001B[0;31m \u001B[0mvote_bot_run\u001B[0m\u001B[0;34m(\u001B[0m\u001B[0mn_votes\u001B[0m\u001B[0;34m,\u001B[0m\u001B[0mproject\u001B[0m\u001B[0;34m)\u001B[0m\u001B[0;34m\u001B[0m\u001B[0;34m\u001B[0m\u001B[0m\n\u001B[0m",
      "\u001B[0;32m<ipython-input-52-577eaea39111>\u001B[0m in \u001B[0;36mvote_bot_run\u001B[0;34m(n_votes, project_page)\u001B[0m\n\u001B[1;32m     78\u001B[0m         \u001B[0;31m#time.sleep(5)\u001B[0m\u001B[0;34m\u001B[0m\u001B[0;34m\u001B[0m\u001B[0;34m\u001B[0m\u001B[0m\n\u001B[1;32m     79\u001B[0m         \u001B[0mprint\u001B[0m\u001B[0;34m(\u001B[0m\u001B[0;34m\"Generating account info and signing up...\"\u001B[0m\u001B[0;34m)\u001B[0m\u001B[0;34m\u001B[0m\u001B[0;34m\u001B[0m\u001B[0m\n\u001B[0;32m---> 80\u001B[0;31m         \u001B[0msign_up\u001B[0m\u001B[0;34m(\u001B[0m\u001B[0mdriver\u001B[0m\u001B[0;34m)\u001B[0m\u001B[0;34m\u001B[0m\u001B[0;34m\u001B[0m\u001B[0m\n\u001B[0m\u001B[1;32m     81\u001B[0m         \u001B[0mprint\u001B[0m\u001B[0;34m(\u001B[0m\u001B[0;34m\"Done.\"\u001B[0m\u001B[0;34m)\u001B[0m\u001B[0;34m\u001B[0m\u001B[0;34m\u001B[0m\u001B[0m\n\u001B[1;32m     82\u001B[0m         \u001B[0mtime\u001B[0m\u001B[0;34m.\u001B[0m\u001B[0msleep\u001B[0m\u001B[0;34m(\u001B[0m\u001B[0;36m10\u001B[0m\u001B[0;34m)\u001B[0m\u001B[0;34m\u001B[0m\u001B[0;34m\u001B[0m\u001B[0m\n",
      "\u001B[0;32m<ipython-input-52-577eaea39111>\u001B[0m in \u001B[0;36msign_up\u001B[0;34m(driver)\u001B[0m\n\u001B[1;32m     39\u001B[0m     \u001B[0mdriver\u001B[0m\u001B[0;34m.\u001B[0m\u001B[0mget\u001B[0m\u001B[0;34m(\u001B[0m\u001B[0;34m\"https://make.co/wp-login.php?redirect_to=https://make.co/dashboard/%3Flogin%3Dtrue\"\u001B[0m\u001B[0;34m)\u001B[0m\u001B[0;34m\u001B[0m\u001B[0;34m\u001B[0m\u001B[0m\n\u001B[1;32m     40\u001B[0m \u001B[0;34m\u001B[0m\u001B[0m\n\u001B[0;32m---> 41\u001B[0;31m     \u001B[0mdriver\u001B[0m\u001B[0;34m.\u001B[0m\u001B[0mfind_element\u001B[0m\u001B[0;34m(\u001B[0m\u001B[0mBy\u001B[0m\u001B[0;34m.\u001B[0m\u001B[0mXPATH\u001B[0m\u001B[0;34m,\u001B[0m \u001B[0mXpath_SignUp\u001B[0m\u001B[0;34m)\u001B[0m\u001B[0;34m.\u001B[0m\u001B[0mclick\u001B[0m\u001B[0;34m(\u001B[0m\u001B[0;34m)\u001B[0m\u001B[0;34m\u001B[0m\u001B[0;34m\u001B[0m\u001B[0m\n\u001B[0m\u001B[1;32m     42\u001B[0m     \u001B[0mdriver\u001B[0m\u001B[0;34m.\u001B[0m\u001B[0mfind_element\u001B[0m\u001B[0;34m(\u001B[0m\u001B[0mBy\u001B[0m\u001B[0;34m.\u001B[0m\u001B[0mXPATH\u001B[0m\u001B[0;34m,\u001B[0m \u001B[0mXpath_email\u001B[0m\u001B[0;34m)\u001B[0m\u001B[0;34m.\u001B[0m\u001B[0msend_keys\u001B[0m\u001B[0;34m(\u001B[0m\u001B[0memail_generator\u001B[0m\u001B[0;34m(\u001B[0m\u001B[0;34m)\u001B[0m\u001B[0;34m)\u001B[0m\u001B[0;34m\u001B[0m\u001B[0;34m\u001B[0m\u001B[0m\n\u001B[1;32m     43\u001B[0m     \u001B[0mdriver\u001B[0m\u001B[0;34m.\u001B[0m\u001B[0mfind_element\u001B[0m\u001B[0;34m(\u001B[0m\u001B[0mBy\u001B[0m\u001B[0;34m.\u001B[0m\u001B[0mXPATH\u001B[0m\u001B[0;34m,\u001B[0m \u001B[0mXpath_passworld\u001B[0m\u001B[0;34m)\u001B[0m\u001B[0;34m.\u001B[0m\u001B[0msend_keys\u001B[0m\u001B[0;34m(\u001B[0m\u001B[0mpassword_generator\u001B[0m\u001B[0;34m(\u001B[0m\u001B[0;34m)\u001B[0m\u001B[0;34m)\u001B[0m\u001B[0;34m\u001B[0m\u001B[0;34m\u001B[0m\u001B[0m\n",
      "\u001B[0;32m~/opt/anaconda3/lib/python3.8/site-packages/selenium/webdriver/remote/webdriver.py\u001B[0m in \u001B[0;36mfind_element\u001B[0;34m(self, by, value)\u001B[0m\n\u001B[1;32m    855\u001B[0m             \u001B[0mvalue\u001B[0m \u001B[0;34m=\u001B[0m \u001B[0;34m'[name=\"%s\"]'\u001B[0m \u001B[0;34m%\u001B[0m \u001B[0mvalue\u001B[0m\u001B[0;34m\u001B[0m\u001B[0;34m\u001B[0m\u001B[0m\n\u001B[1;32m    856\u001B[0m \u001B[0;34m\u001B[0m\u001B[0m\n\u001B[0;32m--> 857\u001B[0;31m         return self.execute(Command.FIND_ELEMENT, {\n\u001B[0m\u001B[1;32m    858\u001B[0m             \u001B[0;34m'using'\u001B[0m\u001B[0;34m:\u001B[0m \u001B[0mby\u001B[0m\u001B[0;34m,\u001B[0m\u001B[0;34m\u001B[0m\u001B[0;34m\u001B[0m\u001B[0m\n\u001B[1;32m    859\u001B[0m             'value': value})['value']\n",
      "\u001B[0;32m~/opt/anaconda3/lib/python3.8/site-packages/selenium/webdriver/remote/webdriver.py\u001B[0m in \u001B[0;36mexecute\u001B[0;34m(self, driver_command, params)\u001B[0m\n\u001B[1;32m    433\u001B[0m         \u001B[0mresponse\u001B[0m \u001B[0;34m=\u001B[0m \u001B[0mself\u001B[0m\u001B[0;34m.\u001B[0m\u001B[0mcommand_executor\u001B[0m\u001B[0;34m.\u001B[0m\u001B[0mexecute\u001B[0m\u001B[0;34m(\u001B[0m\u001B[0mdriver_command\u001B[0m\u001B[0;34m,\u001B[0m \u001B[0mparams\u001B[0m\u001B[0;34m)\u001B[0m\u001B[0;34m\u001B[0m\u001B[0;34m\u001B[0m\u001B[0m\n\u001B[1;32m    434\u001B[0m         \u001B[0;32mif\u001B[0m \u001B[0mresponse\u001B[0m\u001B[0;34m:\u001B[0m\u001B[0;34m\u001B[0m\u001B[0;34m\u001B[0m\u001B[0m\n\u001B[0;32m--> 435\u001B[0;31m             \u001B[0mself\u001B[0m\u001B[0;34m.\u001B[0m\u001B[0merror_handler\u001B[0m\u001B[0;34m.\u001B[0m\u001B[0mcheck_response\u001B[0m\u001B[0;34m(\u001B[0m\u001B[0mresponse\u001B[0m\u001B[0;34m)\u001B[0m\u001B[0;34m\u001B[0m\u001B[0;34m\u001B[0m\u001B[0m\n\u001B[0m\u001B[1;32m    436\u001B[0m             response['value'] = self._unwrap_value(\n\u001B[1;32m    437\u001B[0m                 response.get('value', None))\n",
      "\u001B[0;32m~/opt/anaconda3/lib/python3.8/site-packages/selenium/webdriver/remote/errorhandler.py\u001B[0m in \u001B[0;36mcheck_response\u001B[0;34m(self, response)\u001B[0m\n\u001B[1;32m    245\u001B[0m                 \u001B[0malert_text\u001B[0m \u001B[0;34m=\u001B[0m \u001B[0mvalue\u001B[0m\u001B[0;34m[\u001B[0m\u001B[0;34m'alert'\u001B[0m\u001B[0;34m]\u001B[0m\u001B[0;34m.\u001B[0m\u001B[0mget\u001B[0m\u001B[0;34m(\u001B[0m\u001B[0;34m'text'\u001B[0m\u001B[0;34m)\u001B[0m\u001B[0;34m\u001B[0m\u001B[0;34m\u001B[0m\u001B[0m\n\u001B[1;32m    246\u001B[0m             \u001B[0;32mraise\u001B[0m \u001B[0mexception_class\u001B[0m\u001B[0;34m(\u001B[0m\u001B[0mmessage\u001B[0m\u001B[0;34m,\u001B[0m \u001B[0mscreen\u001B[0m\u001B[0;34m,\u001B[0m \u001B[0mstacktrace\u001B[0m\u001B[0;34m,\u001B[0m \u001B[0malert_text\u001B[0m\u001B[0;34m)\u001B[0m  \u001B[0;31m# type: ignore[call-arg]  # mypy is not smart enough here\u001B[0m\u001B[0;34m\u001B[0m\u001B[0;34m\u001B[0m\u001B[0m\n\u001B[0;32m--> 247\u001B[0;31m         \u001B[0;32mraise\u001B[0m \u001B[0mexception_class\u001B[0m\u001B[0;34m(\u001B[0m\u001B[0mmessage\u001B[0m\u001B[0;34m,\u001B[0m \u001B[0mscreen\u001B[0m\u001B[0;34m,\u001B[0m \u001B[0mstacktrace\u001B[0m\u001B[0;34m)\u001B[0m\u001B[0;34m\u001B[0m\u001B[0;34m\u001B[0m\u001B[0m\n\u001B[0m\u001B[1;32m    248\u001B[0m \u001B[0;34m\u001B[0m\u001B[0m\n\u001B[1;32m    249\u001B[0m     \u001B[0;32mdef\u001B[0m \u001B[0m_value_or_default\u001B[0m\u001B[0;34m(\u001B[0m\u001B[0mself\u001B[0m\u001B[0;34m,\u001B[0m \u001B[0mobj\u001B[0m\u001B[0;34m:\u001B[0m \u001B[0mMapping\u001B[0m\u001B[0;34m[\u001B[0m\u001B[0m_KT\u001B[0m\u001B[0;34m,\u001B[0m \u001B[0m_VT\u001B[0m\u001B[0;34m]\u001B[0m\u001B[0;34m,\u001B[0m \u001B[0mkey\u001B[0m\u001B[0;34m:\u001B[0m \u001B[0m_KT\u001B[0m\u001B[0;34m,\u001B[0m \u001B[0mdefault\u001B[0m\u001B[0;34m:\u001B[0m \u001B[0m_VT\u001B[0m\u001B[0;34m)\u001B[0m \u001B[0;34m->\u001B[0m \u001B[0m_VT\u001B[0m\u001B[0;34m:\u001B[0m\u001B[0;34m\u001B[0m\u001B[0;34m\u001B[0m\u001B[0m\n",
      "\u001B[0;31mNoSuchElementException\u001B[0m: Message: no such element: Unable to locate element: {\"method\":\"xpath\",\"selector\":\"/html/body/div/i/div/div/div/form/div/div/div[3]/span/div/div/div/div/div/div/div/div/div[1]/ul/li[2]/a\"}\n  (Session info: chrome=104.0.5112.48)\nStacktrace:\n0   chromedriver                        0x00000001023f2aa4 chromedriver + 3828388\n1   chromedriver                        0x0000000102387ee0 chromedriver + 3391200\n2   chromedriver                        0x0000000102080fcc chromedriver + 217036\n3   chromedriver                        0x00000001020b0b64 chromedriver + 412516\n4   chromedriver                        0x00000001020d9b14 chromedriver + 580372\n5   chromedriver                        0x00000001020a5ff8 chromedriver + 368632\n6   chromedriver                        0x00000001023c8360 chromedriver + 3654496\n7   chromedriver                        0x00000001023cbc10 chromedriver + 3669008\n8   chromedriver                        0x00000001023d0110 chromedriver + 3686672\n9   chromedriver                        0x00000001023cc618 chromedriver + 3671576\n10  chromedriver                        0x00000001023aab04 chromedriver + 3533572\n11  chromedriver                        0x00000001023e43d8 chromedriver + 3769304\n12  chromedriver                        0x00000001023e453c chromedriver + 3769660\n13  chromedriver                        0x00000001023f90b4 chromedriver + 3854516\n14  libsystem_pthread.dylib             0x000000018a62c26c _pthread_start + 148\n15  libsystem_pthread.dylib             0x000000018a62708c thread_start + 8\n"
     ]
    }
   ],
   "source": [
    "vote_bot_run(n_votes,project)"
   ],
   "metadata": {
    "collapsed": false,
    "pycharm": {
     "name": "#%%\n"
    }
   }
  }
 ],
 "metadata": {
  "kernelspec": {
   "display_name": "Python 3",
   "language": "python",
   "name": "python3"
  },
  "language_info": {
   "codemirror_mode": {
    "name": "ipython",
    "version": 2
   },
   "file_extension": ".py",
   "mimetype": "text/x-python",
   "name": "python",
   "nbconvert_exporter": "python",
   "pygments_lexer": "ipython2",
   "version": "2.7.6"
  }
 },
 "nbformat": 4,
 "nbformat_minor": 0
}