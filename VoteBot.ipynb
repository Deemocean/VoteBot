{
 "cells": [
  {
   "cell_type": "code",
   "execution_count": null,
   "metadata": {
    "collapsed": true
   },
   "outputs": [],
   "source": [
    "import time\n",
    "from selenium import webdriver\n",
    "from selenium.webdriver.common.by import By\n",
    "from selenium.webdriver.chrome.options import Options\n",
    "options = Options()\n",
    "options.add_argument('--disable-blink-features=AutomationControlled')\n",
    "Options.binary_location = \"/Applications/Google Chrome Beta.app/Contents/MacOS/Google Chrome Beta\"\n",
    "import random\n",
    "import string\n",
    "import names"
   ]
  },
  {
   "cell_type": "code",
   "execution_count": null,
   "outputs": [],
   "source": [
    "#Parameters\n",
    "access_token = 'bb2ad9a5b71ee5'\n",
    "rotating_ip = '46.4.73.88:2000'\n",
    "#project page\n",
    "project = \"https://make.co/contestants/THE PROJECT\"\n",
    "n_votes = 10"
   ],
   "metadata": {
    "collapsed": false,
    "pycharm": {
     "name": "#%%\n"
    }
   }
  },
  {
   "cell_type": "code",
   "execution_count": null,
   "outputs": [],
   "source": [
    "def email_generator():\n",
    "    name = names.get_first_name()\n",
    "    return name+str(random.randrange(1,420,1))+'@gmail.com'\n",
    "def password_generator():\n",
    "    return ''.join(random.choices(string.ascii_uppercase + string.ascii_lowercase, k=10))+str(int(round(random.random()*10000,0)))"
   ],
   "metadata": {
    "collapsed": false,
    "pycharm": {
     "name": "#%%\n"
    }
   }
  },
  {
   "cell_type": "code",
   "execution_count": null,
   "outputs": [],
   "source": [
    "def get_ipinfo(driver):\n",
    "    Xpath_ipinfo = '/html/body/pre'\n",
    "    driver.get(\"https://ipinfo.io/?token=bb2ad9a5b71ee5\")\n",
    "    return driver.find_element(By.XPATH, Xpath_ipinfo).text\n",
    "\n",
    "def sign_up(driver):\n",
    "    Xpath_SignUp = '/html/body/div/i/div/div/div/form/div/div/div[3]/span/div/div/div/div/div/div/div/div/div[1]/ul/li[2]/a'\n",
    "    Xpath_email = '//*[@id=\"login-container\"]/div/div/form/div/div/div[3]/span/div/div/div/div/div/div/div/div/div[2]/div[1]/div/input'\n",
    "    Xpath_passworld = '//*[@id=\"login-container\"]/div/div/form/div/div/div[3]/span/div/div/div/div/div/div/div/div/div[2]/div[2]/div[1]/div/input'\n",
    "    Xpath_firstname = '//*[@id=\"login-container\"]/div/div/form/div/div/div[3]/span/div/div/div/div/div/div/div/div/div[2]/div[3]/div/input'\n",
    "    Xpath_lastname = '//*[@id=\"login-container\"]/div/div/form/div/div/div[3]/span/div/div/div/div/div/div/div/div/div[2]/div[4]/div/input'\n",
    "    Xpath_month = '//*[@id=\"login-container\"]/div/div/form/div/div/div[3]/span/div/div/div/div/div/div/div/div/div[2]/div[6]/div/input'\n",
    "    Xpath_day = '//*[@id=\"login-container\"]/div/div/form/div/div/div[3]/span/div/div/div/div/div/div/div/div/div[2]/div[7]/div/input'\n",
    "    Xpath_year = '//*[@id=\"login-container\"]/div/div/form/div/div/div[3]/span/div/div/div/div/div/div/div/div/div[2]/div[8]/div/input'\n",
    "    Xpath_month_spc = '//*[@id=\"login-container\"]/div/div/form/div/div/div[4]/div/div[2]/ul/li['+str(random.randrange(1,12,1))+']'\n",
    "    Xpath_day_spc = '//*[@id=\"login-container\"]/div/div/form/div/div/div[4]/div/div[2]/ul/li['+str(random.randrange(1,30,1))+']'\n",
    "    Xpath_2000 = '//*[@id=\"login-container\"]/div/div/form/div/div/div[4]/div/div[2]/ul/li['+str(random.randrange(21,100,1))+']'\n",
    "    Xpath_terms = '//*[@id=\"login-container\"]/div/div/form/div/div/div[3]/span/div/div/div/div/div/small/span/label/input'\n",
    "    Xpath_SP = '//*[@id=\"login-container\"]/div/div/form/div/div/button/span'\n",
    "\n",
    "    driver.get(\"https://make.co/wp-login.php?redirect_to=https://make.co/dashboard/%3Flogin%3Dtrue\")\n",
    "\n",
    "    driver.find_element(By.XPATH, Xpath_SignUp).click()\n",
    "    driver.find_element(By.XPATH, Xpath_email).send_keys(email_generator())\n",
    "    driver.find_element(By.XPATH, Xpath_passworld).send_keys(password_generator())\n",
    "    driver.find_element(By.XPATH, Xpath_firstname).send_keys(names.get_first_name())\n",
    "    driver.find_element(By.XPATH, Xpath_lastname).send_keys(names.get_last_name())\n",
    "\n",
    "    driver.find_element(By.XPATH,Xpath_month).click()\n",
    "    driver.find_element(By.XPATH,Xpath_month_spc).click()\n",
    "\n",
    "    driver.find_element(By.XPATH,Xpath_day).click()\n",
    "    driver.find_element(By.XPATH, Xpath_month_spc).click()\n",
    "\n",
    "    driver.find_element(By.XPATH,Xpath_year).click()\n",
    "    driver.find_element(By.XPATH,Xpath_2000).click()\n",
    "\n",
    "    driver.find_element(By.XPATH,Xpath_terms).click()\n",
    "    driver.find_element(By.XPATH,Xpath_SP).click()\n",
    "\n",
    "def vote(driver, project_page):\n",
    "    Xpath_VOTE = '//*[@id=\"wpvc-singlecustom-header\"]/div/div[2]/div/div/div[1]/button/span'\n",
    "    print(\"Loading Project page...\")\n",
    "    driver.get(project_page)\n",
    "    print(\"Done.\")\n",
    "    driver.find_element(By.XPATH,Xpath_VOTE).click()\n",
    "\n",
    "def vote_bot_run(n_votes,project_page):\n",
    "    for i in range(n_votes):\n",
    "        chrome_options = webdriver.ChromeOptions()\n",
    "        chrome_options.add_argument(\"--incognito\")\n",
    "        chrome_options.add_argument('--proxy-server=%s' % rotating_ip)\n",
    "        prefs = {\"profile.managed_default_content_settings.images\": 2}\n",
    "        chrome_options.add_experimental_option(\"prefs\", prefs)\n",
    "        driver = webdriver.Chrome(options=chrome_options)\n",
    "        driver.implicitly_wait(10)\n",
    "\n",
    "        print(\"Voting Agent IP info:\")\n",
    "        print(get_ipinfo(driver))\n",
    "        #time.sleep(5)\n",
    "        print(\"Generating account info and signing up...\")\n",
    "        sign_up(driver)\n",
    "        print(\"Done.\")\n",
    "        time.sleep(10)\n",
    "        print(\"Voting...\")\n",
    "        vote(driver,project_page)\n",
    "        print(str(i+1)+\" voted!\")\n",
    "        time.sleep(5)\n",
    "\n",
    "        driver.delete_all_cookies()\n",
    "        driver.close()"
   ],
   "metadata": {
    "collapsed": false,
    "pycharm": {
     "name": "#%%\n"
    }
   }
  },
  {
   "cell_type": "code",
   "execution_count": null,
   "outputs": [],
   "source": [
    "vote_bot_run(n_votes,project)"
   ],
   "metadata": {
    "collapsed": false,
    "pycharm": {
     "name": "#%%\n"
    }
   }
  }
 ],
 "metadata": {
  "kernelspec": {
   "display_name": "Python 3",
   "language": "python",
   "name": "python3"
  },
  "language_info": {
   "codemirror_mode": {
    "name": "ipython",
    "version": 2
   },
   "file_extension": ".py",
   "mimetype": "text/x-python",
   "name": "python",
   "nbconvert_exporter": "python",
   "pygments_lexer": "ipython2",
   "version": "2.7.6"
  }
 },
 "nbformat": 4,
 "nbformat_minor": 0
}